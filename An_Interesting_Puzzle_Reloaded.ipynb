{
  "nbformat": 4,
  "nbformat_minor": 0,
  "metadata": {
    "colab": {
      "name": "An Interesting Puzzle Reloaded",
      "provenance": [],
      "collapsed_sections": [],
      "authorship_tag": "ABX9TyMWFGfTUD4U7kkNY9eWEOJw",
      "include_colab_link": true
    },
    "kernelspec": {
      "name": "python3",
      "display_name": "Python 3"
    }
  },
  "cells": [
    {
      "cell_type": "markdown",
      "metadata": {
        "id": "view-in-github",
        "colab_type": "text"
      },
      "source": [
        "<a href=\"https://colab.research.google.com/github/kovisoft/colab/blob/master/An_Interesting_Puzzle_Reloaded.ipynb\" target=\"_parent\"><img src=\"https://colab.research.google.com/assets/colab-badge.svg\" alt=\"Open In Colab\"/></a>"
      ]
    },
    {
      "cell_type": "markdown",
      "metadata": {
        "colab_type": "text",
        "id": "7o7Iq0PpOczH"
      },
      "source": [
        "<center>\n",
        "\n",
        "# An Interesting Puzzle Reloaded\n",
        "_Sun 26 April 2020, by Tamás Kovács_<br>\n",
        "</center>"
      ]
    },
    {
      "cell_type": "markdown",
      "metadata": {
        "id": "n50kDskDq5lV",
        "colab_type": "text"
      },
      "source": [
        "\n",
        "## The puzzle\n",
        "\n",
        "It was maybe a year ago when I first saw this very interesting puzzle:\n",
        "<center>\n",
        "\n",
        "![alt text](http://drive.google.com/uc?export=view&id=10D5podvrv9PUK7QQQveXLlkh908fqwRy)\n",
        "\n",
        "<!--![alt text](https://qph.fs.quoracdn.net/main-qimg-5b0690e302a38cf2a8068158199e7a21-c)-->\n",
        "</center>\n",
        "\n",
        "I immediately tried to solve it by hand (everyone wants to be in the other 5%, right?) but failed miserably. Then I wrote a little program that used brute force method for finding a solution. Of course it failed, too. So finally I gave up and searched the internet for the solution, and found it in [this Quora post by Alon Amit](https://www.quora.com/How-do-you-find-the-positive-integer-solutions-to-frac-x-y+z-+-frac-y-z+x-+-frac-z-x+y-4) with an excellent and very detailed explanation that is worth reading. Looking at the magnitude of the numbers I immediately understood why the brute force method was doomed to fail.\n",
        "\n",
        "Unfortunately the solution presented in the Quora post is quite complicated and involves advanced math concepts, like elliptic curves and group theory. For example one of the first steps is to find the Weierstrass normal form of the elliptic curve obtained from the puzzle. The solution is then determined by finding a generator of the rational points on the normal form and iterating over the rational points using group addition (described as the 'chords and tangents rule') and finally transformed back to the space of the original elliptic curve. Sounds scary, right? Is it really only 95% of people who cannot solve this or rather is it 99.999995% as Alon Amit estimates in his post? And above all the most important question for me was: _can we do it simpler_?"
      ]
    },
    {
      "cell_type": "markdown",
      "metadata": {
        "id": "CSZ1CqXgrHDT",
        "colab_type": "text"
      },
      "source": [
        "---\n",
        "\n",
        "## A simpler solution\n",
        "\n",
        "I was wondering whether there may be an easier method for solving the puzzle, some process using basic algebra only and not requiring advanced mathematical concepts. An advanced topic in the above solution is finding the Weierstrass normal form. Do we really need this or is it possible to do every action on the original elliptic curve? It turned out that we can completely skip working with the Weierstrass normal form. We can also rephrase the group addition of elliptic curves ('chords and tangents rule') to something less scary looking ('curve and line intersections').<br>\n",
        "So I came up with this solution that is of course based on the method described in Alon's post:"
      ]
    },
    {
      "cell_type": "markdown",
      "metadata": {
        "id": "Jp_KtieAqzg8",
        "colab_type": "text"
      },
      "source": [
        "1.   Eliminate one variable and rearrange the equation, so that it becomes a cubic polynomial equation (elliptic curve).\n",
        "2.   Find an integer but not necessarily positive solution (point $P$ on the curve). Construct another rational point $Q$, such that the $PQ$ line intersects the curve in a third point.\n",
        "3.   Determine the third $R$ point where the $PQ$ line intersects the curve and reflect $R$ over the $y=x$ line (i.e. swap the $x$ and $y$ coordinates) to make a new rational point $R'$ on the curve.\n",
        "4.   Replace $Q$ with $R'$ and repeat step 3 until a positive rational solution is found.\n",
        "5.   Multiply the coordinates of the resulting point by the denominator to make it an integer solution."
      ]
    },
    {
      "cell_type": "markdown",
      "metadata": {
        "id": "J2WVBSCfqjrD",
        "colab_type": "text"
      },
      "source": [
        "Why does the above work? I think one reason is that our elliptic curve is symmetric, i.e. we can swap x and y and we still have the same curve. Remember that the Weierstrass normal form is symmetric on the $x$-axis and adding two points on the curve involves reflection over the $x$-axis. As our original curve is symmetric on the $y=x$ line, we can do a similar reflection over that line and the reflected point still has rational coordinates.\n",
        "\n",
        "The basic idea is that if we intersect a cubic polynomial with a line, so that the polinomial and the line have rational coefficients and two of the three intersection points are rational, then the third intersection point is also rational (remember the [Vieta's formulas](https://en.wikipedia.org/wiki/Vieta%27s_formulas)). And we don't actually need to solve cubic equations, because if we already know two intersection points, then the third one can be found by [polynomial long division](https://en.wikipedia.org/wiki/Polynomial_long_division).\n",
        "\n",
        "I must note here that this method does not necessarily find the **smallest** possible solution. Depending on what initial points we choose, we may get a larger solution set.<b><br>"
      ]
    },
    {
      "cell_type": "markdown",
      "metadata": {
        "id": "q7Az4H_RgiAG",
        "colab_type": "text"
      },
      "source": [
        "---\n",
        "## The solution step by step\n",
        "Now let's dive into the details and see a step by step explanation of the method:"
      ]
    },
    {
      "cell_type": "markdown",
      "metadata": {
        "id": "CQjrd3Y-sA5L",
        "colab_type": "text"
      },
      "source": [
        "###1. Eliminate one variable\n",
        "\n",
        "The original equation in the puzzle is<br><br>\n",
        "$$\\frac{A}{(B+C)}+\\frac{B}{(A+C)}+\\frac{C}{(A+B)}=4$$<br>\n",
        "We can see that if we have a rational solution then it can be transformed into an integer solution: just multiply all numbers by their least common multiple. Therefore we can assume that one variable is $1$ and we are looking for rational solutions of this two-variable equation:<br><br>\n",
        "$$\\frac{x}{(y+1)}+\\frac{y}{(x+1)}+\\frac{1}{(x+y)}=4$$<br>\n",
        "Multiplying by the denominators introduces new false solutions, we need to remember this and ignore such results where either $x$ or $y$ is $-1$, or $y=-x$:<br><br>\n",
        "$$x(x+1)(x+y)+y(y+1)(x+y)+(x+1)(y+1)=4(x+1)(y+1)(x+y)$$<br>\n",
        "Rearranging it gives the equation of a curve that is symmetric on the $y=x$ line (we can swap $x$ and $y$ and get the same equation):<br><br>\n",
        "$$x^3-3x^2y-3x^2-3xy^2-5xy-3x+y^3-3y^2-3y+1=0$$"
      ]
    },
    {
      "cell_type": "markdown",
      "metadata": {
        "id": "eTIYop8Z-oM7",
        "colab_type": "text"
      },
      "source": [
        "###2. Find two rational points on the curve\n",
        "\n",
        "It's easy to find some integer but not necessarily positive solutions to the original problem using a computer. For example this snippet prints some integer solutions with a positive $z$ value (_please note that although we can use a brute force method to find integer solutions of the original problem, we cannot use the same method to find integer and **positive** solutions, because of the magnitude of such numbers!_):"
      ]
    },
    {
      "cell_type": "code",
      "metadata": {
        "id": "NULMskDKIOmx",
        "colab_type": "code",
        "outputId": "a88b5226-ed9e-4d46-f955-a9891d24c766",
        "colab": {
          "base_uri": "https://localhost:8080/",
          "height": 235
        }
      },
      "source": [
        "for x in range(-20,21):\n",
        "    for y in range(-20,21):\n",
        "        for z in range(0,21):\n",
        "            if (x+y)*(x+z)*(y+z) != 0 and x*(x+z)*(x+y) + y*(y+x)*(y+z) + z*(z+x)*(z+y) == 4*(x+y)*(x+z)*(y+z):\n",
        "                print(x,y,z)"
      ],
      "execution_count": 0,
      "outputs": [
        {
          "output_type": "stream",
          "text": [
            "-11 -9 5\n",
            "-11 -4 1\n",
            "-9 -11 5\n",
            "-5 9 11\n",
            "-5 11 9\n",
            "-4 -11 1\n",
            "-1 4 11\n",
            "-1 11 4\n",
            "4 -1 11\n",
            "9 -5 11\n",
            "11 -5 9\n",
            "11 -1 4\n"
          ],
          "name": "stdout"
        }
      ]
    },
    {
      "cell_type": "markdown",
      "metadata": {
        "id": "ZBYokEUWsKQK",
        "colab_type": "text"
      },
      "source": [
        "Pick an integer solution from the above list. For convenience let's take one where $z=1$, like $x=-4, y=-11, z=1$. This is point $P(-4, -11)$ in the rearranged two-variable equation. Construct another solution by permuting $x$, $y$ and $z$, e.g. $x=-11, y=1, z=-4$. Divide by $z$ (remember that $z=1$ in the two-variable equation) and it becomes point $Q(\\frac{11}{4}, \\frac{-1}{4})$.<br><br>\n",
        "The main idea here is that we need two points such that both lie on the curve and if we connect them with a line, this line should intersect the curve in a third point that is also a non-degenerate solution to the puzzle. Therefore we cannot simply swap $x$ and $y$ of $P$, because the $PQ$ line would be perpendicular to $y=x$ and would not intersect the curve in a third point."
      ]
    },
    {
      "cell_type": "markdown",
      "metadata": {
        "id": "c9nGqexRIMrh",
        "colab_type": "text"
      },
      "source": [
        "###3. Determine the third intersection point\n",
        "\n",
        "If we have a line $y=ax+b$ then we can eliminate variable $y$ from the curve equation. Replacing $y$ with $(ax+b)$ and rearranging it gives us this cubic polynomial:<br><br>\n",
        "$$(a^3-3a^2-3a+1)x^3+(3a^2b-3a^2-6ab-5a-3b-3)x^2+(3ab^2-6ab-3a-3b^2-5b-3)x + b^3-3b^2-3b+1=0$$<br>"
      ]
    },
    {
      "cell_type": "markdown",
      "metadata": {
        "id": "SgIcVb-DI00i",
        "colab_type": "text"
      },
      "source": [
        "Connecting points $(x_{1}, y_{1})$ and $(x_{2}, y_{2})$ produces this line equation:<br><br>\n",
        "$$y=\\frac{y_{2}-y_{1}}{x_{2}-x_{1}}(x-x_{1})+y_{1}$$"
      ]
    },
    {
      "cell_type": "markdown",
      "metadata": {
        "id": "satdbQKHIWcm",
        "colab_type": "text"
      },
      "source": [
        "Evaluating for points $P(-4, -11)$ and $Q(\\frac{11}{4}, \\frac{-1}{4})$ gives the line equation $y=\\frac{43}{27}x-\\frac{125}{27}$, so using $a=\\frac{43}{27}$ and $b=\\frac{125}{27}$ in the cubic equation and multiplying by the denominator results in:<br><br>\n",
        "$$-20660x^3+12171x^2+274755x-417956=0$$<br>"
      ]
    },
    {
      "cell_type": "markdown",
      "metadata": {
        "id": "MhSoTI7LIjxR",
        "colab_type": "text"
      },
      "source": [
        "We have now a cubic equation that we could solve e.g. using Cardano's formula, but it's not really needed because we already know two out of the three roots. Therefore we simply perform long division for each known root: we divide our polynomial by $(x-x_{i})$ where $x_{i}$ is a root. So first divide by $(x+4)$:<br><br>\n",
        "$$-20660x^2+94811x-104489=0$$<br>"
      ]
    },
    {
      "cell_type": "markdown",
      "metadata": {
        "id": "AAcXflLpHe0I",
        "colab_type": "text"
      },
      "source": [
        "Then divide by $(x-\\frac{11}{4})$ and simplify:<br><br>\n",
        "$$-5165x+9499=0$$<br>\n",
        "From this linear equation we get $x=\\frac{9499}{5165}$, this will be the $x$ coordinate of the third intersection point, and we get the $y$ coordinate by evaluating the line equation at $x$, that is $y=-\\frac{8784}{5165}$. This gives us the third intersection point $R(\\frac{9499}{5165}, -\\frac{8784}{5165})$. Now swap the $x$ and $y$ coordinates and we get our next rational point $R'(-\\frac{8784}{5165}, \\frac{9499}{5165})$ on the curve.<br><br>\n",
        "The curve, the line, their three intersection points (red) and the reflection of the third point (green) can be seen on the below image:"
      ]
    },
    {
      "cell_type": "markdown",
      "metadata": {
        "id": "qZWAR0t4wPZh",
        "colab_type": "text"
      },
      "source": [
        "<center>\n",
        "\n",
        "![image.png](data:image/png;base64,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)\n",
        "\n",
        "</center>"
      ]
    },
    {
      "cell_type": "markdown",
      "metadata": {
        "id": "GOo5LB5K5uPJ",
        "colab_type": "text"
      },
      "source": [
        "###4. Iterate over the rational points\n",
        "\n",
        "Unfortunately the rational point we found in the previous step is not all positive, so we are not yet done. Let's keep our original $P$ but replace $Q$ with $R'$. We have now $P(-4,-11)$ and $Q(-\\frac{8784}{5165}, \\frac{9499}{5165})$ and again both points lie on the curve and have rational coordinates. Therefore if we connect them with a line and identify the third intersection point, then it will be a rational point, too. We keep iterating until we find a point with positive coordinates. Beware that the number of digits in the denominators is rapidly growing with each iteration, so it's not something to do by hand. It turns out that we need to repeat this process 8 times until we get this point:<br><br>\n",
        "\n",
        "$$R(\\frac{4373612677928697257861252602371390152816537558161613618621437993378423467772036}{36875131794129999827197811565225474825492979968971970996283137471637224634055579}, \\frac{154476802108746166441951315019919837485664325669565431700026634898253202035277999}{36875131794129999827197811565225474825492979968971970996283137471637224634055579})$$<br>\n",
        "All we need to do now is multiply by the denominator (not just these $x$ and $y$ coordinates but also the third value $z=1$) and we get a positive integer solution of the original puzzle:<br><br>\n",
        "$A=4373612677928697257861252602371390152816537558161613618621437993378423467772036$\n",
        "$B=154476802108746166441951315019919837485664325669565431700026634898253202035277999$\n",
        "$C=36875131794129999827197811565225474825492979968971970996283137471637224634055579$\n",
        "<br><br>"
      ]
    },
    {
      "cell_type": "markdown",
      "metadata": {
        "id": "b0FLwwhsG5vY",
        "colab_type": "text"
      },
      "source": [
        "---\n",
        "## Python implementation\n",
        "Finally here follows the Python implementation of the above described process. The program does not use any kind of advanced computer algebra system, like Sage. It requires only the Fraction module that provides support for rational number arithmetic."
      ]
    },
    {
      "cell_type": "code",
      "metadata": {
        "id": "MOurYjbbqDFI",
        "colab_type": "code",
        "outputId": "15b47160-8e18-4c2e-e53d-2cbc3dbd5d83",
        "colab": {
          "base_uri": "https://localhost:8080/",
          "height": 108
        }
      },
      "source": [
        "from fractions import Fraction\n",
        "\n",
        "def line(x0, y0, x1, y1):\n",
        "    \"\"\"\n",
        "    Make a polynomial that is the equation of the line going through points (x0,y0) and (x1,y1)\n",
        "    \"\"\"\n",
        "    return [(y1-y0)/(x1-x0), y0-(y1-y0)/(x1-x0)*x0]\n",
        "\n",
        "def intersect_curve(a, b):\n",
        "    \"\"\"\n",
        "    Return a polynomial that is the intersection of the puzzle elliptic curve and the line ax+b:\n",
        "    (a^3-3a^2-3a+1)*x^3 + (3a^2*b-3a^2-6ab-5a-3b-3)*x^2 + (3ab^2-6ab-3a-3b^2-5b-3)*x + b^3-3b^2-3b+1 = 0\n",
        "    \"\"\"\n",
        "    return [(a*a*a-3*a*a-3*a+1), (3*a*a*b-3*a*a-6*a*b-5*a-3*b-3), (3*a*b*b-6*a*b-3*a-3*b*b-5*b-3), b*b*b-3*b*b-3*b+1]\n",
        "\n",
        "def evaluate(p, x):\n",
        "    \"\"\"\n",
        "    Evaluate polynomial p for value x\n",
        "    \"\"\"\n",
        "    y = 0\n",
        "    first = True\n",
        "    for c in p:\n",
        "        if first:\n",
        "            first = False\n",
        "        else:\n",
        "            y *= x\n",
        "        y += c\n",
        "    return y\n",
        "\n",
        "def divide(p1, p2):\n",
        "    \"\"\"\n",
        "    Divide two polinomials and return the quotient \n",
        "    \"\"\"\n",
        "    result = []\n",
        "    remainder = p1.copy()\n",
        "    for i in range(len(p1)-len(p2)+1):\n",
        "        r = remainder[i]/p2[0]\n",
        "        result.append(r)\n",
        "        for j in range(len(p2)):\n",
        "            if i+j >= len(p1):\n",
        "                break\n",
        "            remainder[i+j] = remainder[i+j] - r*p2[j]\n",
        "    return result\n",
        "\n",
        "# (x1, y1) and (x2, y2) are two rational points on the puzzle elliptic curve\n",
        "x1 = Fraction(-4,1)\n",
        "y1 = Fraction(-11,1)\n",
        "x2 = Fraction(11,4)\n",
        "y2 = Fraction(-1,4)\n",
        "\n",
        "while True:\n",
        "    # make a chord that passes through our two rational points\n",
        "    chord = line(x1, y1, x2, y2)\n",
        "\n",
        "    # intersect the elliptic curve by the chord\n",
        "    # the intersection points are the roots of the intersection polynomial \n",
        "    cubic = intersect_curve(chord[0], chord[1])\n",
        "\n",
        "    # divide the cubic intersection polynomial by (x-x1), where x1 is one root\n",
        "    # the quotient will be a quadratic polynomial\n",
        "    quadratic = divide(cubic, [Fraction(1,1), -x1])\n",
        "\n",
        "    # again divide the quadratic polynomial by (x-x2), where x2 is another root\n",
        "    # the quotient will be a linear polynomial whose root is the third root\n",
        "    linear = divide(quadratic, [Fraction(1,1), -x2])\n",
        "\n",
        "    # the third root identifies the third intersection point of the curve and the chord\n",
        "    x3 = -linear[1] / linear[0]\n",
        "    y3 = evaluate(chord, x3)\n",
        "    if x3 > 0 and y3 > 0:\n",
        "        break\n",
        "\n",
        "    # reflect the third intersection point over the y=x line by swapping x and y\n",
        "    # this will be our next rational point that we use for the next iteration\n",
        "    x2 = y3\n",
        "    y2 = x3\n",
        "\n",
        "a = x3.numerator\n",
        "b = y3.numerator\n",
        "c = x3.denominator\n",
        "\n",
        "print('Solution:')\n",
        "print('A =', a)\n",
        "print('B =', b)\n",
        "print('C =', c)\n",
        "print('A/(B+C) + B/(A+C) + C/(A+B) =', Fraction(a,b+c) + Fraction(b,a+c) + Fraction(c,a+b))\n"
      ],
      "execution_count": 0,
      "outputs": [
        {
          "output_type": "stream",
          "text": [
            "Solution:\n",
            "A = 4373612677928697257861252602371390152816537558161613618621437993378423467772036\n",
            "B = 154476802108746166441951315019919837485664325669565431700026634898253202035277999\n",
            "C = 36875131794129999827197811565225474825492979968971970996283137471637224634055579\n",
            "A/(B+C) + B/(A+C) + C/(A+B) = 4\n"
          ],
          "name": "stdout"
        }
      ]
    }
  ]
}